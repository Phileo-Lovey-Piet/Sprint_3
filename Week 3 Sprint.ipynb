{
 "cells": [
  {
   "cell_type": "code",
   "execution_count": 30,
   "metadata": {},
   "outputs": [
    {
     "data": {
      "text/html": [
       "<div>\n",
       "<style scoped>\n",
       "    .dataframe tbody tr th:only-of-type {\n",
       "        vertical-align: middle;\n",
       "    }\n",
       "\n",
       "    .dataframe tbody tr th {\n",
       "        vertical-align: top;\n",
       "    }\n",
       "\n",
       "    .dataframe thead th {\n",
       "        text-align: right;\n",
       "    }\n",
       "</style>\n",
       "<table border=\"1\" class=\"dataframe\">\n",
       "  <thead>\n",
       "    <tr style=\"text-align: right;\">\n",
       "      <th></th>\n",
       "      <th>Chips</th>\n",
       "      <th>Cooldrinks</th>\n",
       "      <th>Chocolates</th>\n",
       "      <th>Pies</th>\n",
       "      <th>Fruit</th>\n",
       "      <th>Cupcakes</th>\n",
       "      <th>Veggies</th>\n",
       "      <th>Pasta</th>\n",
       "      <th>Meats</th>\n",
       "      <th>Sweets</th>\n",
       "    </tr>\n",
       "  </thead>\n",
       "  <tbody>\n",
       "    <tr>\n",
       "      <th>0</th>\n",
       "      <td>Lays</td>\n",
       "      <td>Fanta</td>\n",
       "      <td>Tex</td>\n",
       "      <td>Chicken</td>\n",
       "      <td>Apple</td>\n",
       "      <td>Chocolate</td>\n",
       "      <td>Cabbage</td>\n",
       "      <td>Barilla</td>\n",
       "      <td>Dakota Beef</td>\n",
       "      <td>Skittles</td>\n",
       "    </tr>\n",
       "    <tr>\n",
       "      <th>1</th>\n",
       "      <td>Simba</td>\n",
       "      <td>Coke</td>\n",
       "      <td>Cadbury</td>\n",
       "      <td>Pepper Steak</td>\n",
       "      <td>Pear</td>\n",
       "      <td>Vanilla</td>\n",
       "      <td>Spinach</td>\n",
       "      <td>Ronzoni</td>\n",
       "      <td>Lafleur</td>\n",
       "      <td>KitKat</td>\n",
       "    </tr>\n",
       "  </tbody>\n",
       "</table>\n",
       "</div>"
      ],
      "text/plain": [
       "   Chips Cooldrinks Chocolates          Pies  Fruit   Cupcakes  Veggies  \\\n",
       "0   Lays      Fanta        Tex       Chicken  Apple  Chocolate  Cabbage   \n",
       "1  Simba       Coke    Cadbury  Pepper Steak   Pear    Vanilla  Spinach   \n",
       "\n",
       "     Pasta        Meats    Sweets  \n",
       "0  Barilla  Dakota Beef  Skittles  \n",
       "1  Ronzoni      Lafleur    KitKat  "
      ]
     },
     "execution_count": 30,
     "metadata": {},
     "output_type": "execute_result"
    }
   ],
   "source": [
    "import pandas as pd\n",
    "\n",
    "pro = pd.read_csv(\"Products.csv\")\n",
    "\n",
    "pro"
   ]
  },
  {
   "cell_type": "code",
   "execution_count": null,
   "metadata": {},
   "outputs": [],
   "source": []
  }
 ],
 "metadata": {
  "kernelspec": {
   "display_name": "Python 3",
   "language": "python",
   "name": "python3"
  },
  "language_info": {
   "codemirror_mode": {
    "name": "ipython",
    "version": 3
   },
   "file_extension": ".py",
   "mimetype": "text/x-python",
   "name": "python",
   "nbconvert_exporter": "python",
   "pygments_lexer": "ipython3",
   "version": "3.7.6"
  }
 },
 "nbformat": 4,
 "nbformat_minor": 4
}
